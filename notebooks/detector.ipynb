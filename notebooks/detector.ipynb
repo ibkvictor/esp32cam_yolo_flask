{
 "cells": [
  {
   "cell_type": "code",
   "execution_count": 1,
   "metadata": {},
   "outputs": [
    {
     "name": "stdout",
     "output_type": "stream",
     "text": [
      "[0, 0, 0, 0, 0, 0, 0, 0]\n",
      "3.432765409\n"
     ]
    },
    {
     "name": "stderr",
     "output_type": "stream",
     "text": [
      "2022-03-08 00:09:43.944 Python[54968:263650] ApplePersistenceIgnoreState: Existing state will not be touched. New state will be written to /var/folders/jy/p6cc3vwj34j5tytjz8n5btlh0000gn/T/org.python.python.savedState\n"
     ]
    }
   ],
   "source": [
    "import cv2\n",
    "import matplotlib.pyplot as plt\n",
    "#import cvlib as cv\n",
    "import urllib.request\n",
    "import os\n",
    "import numpy as np\n",
    "import time\n",
    "#from cvlib.object_detection import draw_bbox\n",
    "\n",
    "# WEIGHTS_FILE = \"yolov3.weights\"\n",
    "# CONFIG_FILE = \"yolov3.cfg\"\n",
    "CLASSES_FILE = \"coco.names\" # constant 80 classes\n",
    "ONNX_FILE = \"yolov5m.onnx\"\n",
    "\n",
    "# def detect():\n",
    "#     while True:\n",
    "#         # img_resp=urllib.request.urlopen(url='http://192.168.10.162/cam-hi.jpg')\n",
    "#         # imgnp=np.array(bytearray(img_resp.read()),dtype=np.uint8)\n",
    "#         # im = cv2.imdecode(imgnp,-1)\n",
    "#         im= cv2.imread(\"Lena-Soederberg-256x256-JPEG-image-77-Kbytes.jpg\")\n",
    "#         type(im) \n",
    "#         bbox, label, conf = cv.detect_common_objects(im)\n",
    "#         print(type(im))\n",
    "\n",
    "#         im = draw_bbox(im, bbox, label, conf)\n",
    "        \n",
    "#         cv2.imshow('detection',im)\n",
    "#         key=cv2.waitKey(5)\n",
    "#         if key==ord('q'):\n",
    "#             break\n",
    "\n",
    "def detect():\n",
    "    net = cv2.dnn.readNet(ONNX_FILE)\n",
    "    classes = []\n",
    "    with open(CLASSES_FILE,\"r\") as f:\n",
    "        classes = [line.strip() for line in f.readlines()]\n",
    "\n",
    "    colors= np.random.uniform(0,255,size=(len(classes),3))\n",
    "    layer_names = net.getLayerNames()\n",
    "    outputlayers = [layer_names[i - 1] for i in net.getUnconnectedOutLayers()]\n",
    "\n",
    "    input_path = \"Lena-Soederberg-256x256-JPEG-image-77-Kbytes.jpg\"\n",
    "\n",
    "    img = cv2.imread(input_path)\n",
    "    height,width,channels = img.shape\n",
    "    blob = cv2.dnn.blobFromImage(img,0.00392,(640,640),(0,0,0),True,crop=False)\n",
    "    net.setInput(blob)\n",
    "    outs = net.forward(outputlayers)\n",
    "    class_ids=[]\n",
    "    confidences=[]\n",
    "    boxes=[]\n",
    "    for out in outs:\n",
    "        for detection in out[0]:\n",
    "            scores = detection[5:]\n",
    "            class_id = np.argmax(scores)\n",
    "            confidence = detection[4]\n",
    "            if confidence > 0.25:\n",
    "                center_x= int(detection[0]*width)\n",
    "                center_y= int(detection[1]*height)\n",
    "                w = int(detection[2]*width)\n",
    "                h = int(detection[3]*height)\n",
    "\n",
    "                x=int(center_x - w/2)\n",
    "                y=int(center_y - h/2)\n",
    "\n",
    "                boxes.append([x,y,w,h]) \n",
    "                confidences.append(float(confidence))\n",
    "                class_ids.append(class_id)\n",
    "    print(class_ids)\n",
    "\n",
    "    indexes = cv2.dnn.NMSBoxes(boxes,confidences,0.3,0.6)\n",
    "\n",
    "    font = cv2.FONT_HERSHEY_PLAIN\n",
    "    for i in range(len(boxes)):\n",
    "        if i in indexes:\n",
    "            x,y,w,h = boxes[i]\n",
    "            label = str(classes[class_ids[i]])\n",
    "            color = colors[i]\n",
    "            cv2.rectangle(img,(x,y),(x+w,y+h),color,2)\n",
    "            cv2.putText(img,label,(x,y+30),cv2.FONT_HERSHEY_SIMPLEX, 1,color,1,cv2.LINE_AA)\n",
    "\n",
    "    cv2.imshow('detection',img)\n",
    "    # cv2.imwrite('image2.png',img)\n",
    "\n",
    "\n",
    "    # im= cv2.imread(\"Lena-Soederberg-256x256-JPEG-image-77-Kbytes.jpg\")\n",
    "    # print(os.getcwd())\n",
    "    # return type(im)\n",
    "\n",
    "if __name__ == \"__main__\":\n",
    "    t = time.perf_counter()\n",
    "    detect()\n",
    "    print (time.perf_counter() - t)\n"
   ]
  },
  {
   "cell_type": "code",
   "execution_count": 8,
   "metadata": {},
   "outputs": [],
   "source": [
    "input_path = \"Lena-Soederberg-256x256-JPEG-image-77-Kbytes.jpg\"\n",
    "img = cv2.imread(input_path)\n",
    "cv2.imshow(\"\",img)\n",
    "cv2.waitKey()"
   ]
  },
  {
   "cell_type": "code",
   "execution_count": null,
   "metadata": {},
   "outputs": [],
   "source": []
  }
 ],
 "metadata": {
  "interpreter": {
   "hash": "aee8b7b246df8f9039afb4144a1f6fd8d2ca17a180786b69acc140d282b71a49"
  },
  "kernelspec": {
   "display_name": "Python 3.8.1 64-bit",
   "language": "python",
   "name": "python3"
  },
  "language_info": {
   "codemirror_mode": {
    "name": "ipython",
    "version": 3
   },
   "file_extension": ".py",
   "mimetype": "text/x-python",
   "name": "python",
   "nbconvert_exporter": "python",
   "pygments_lexer": "ipython3",
   "version": "3.8.1"
  },
  "orig_nbformat": 4
 },
 "nbformat": 4,
 "nbformat_minor": 2
}
